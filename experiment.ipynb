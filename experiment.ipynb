{
 "cells": [
  {
   "cell_type": "markdown",
   "metadata": {},
   "source": [
    "# Play Atari games with DQN"
   ]
  },
  {
   "cell_type": "markdown",
   "metadata": {},
   "source": [
    "This notebook shows how to play image based Atari games (will leave out the RAM games since the pipeline can be very different) with DQN agents."
   ]
  },
  {
   "cell_type": "code",
   "execution_count": 1,
   "metadata": {},
   "outputs": [],
   "source": [
    "import gym\n",
    "import numpy as np\n",
    "import tensorflow as tf"
   ]
  },
  {
   "cell_type": "code",
   "execution_count": 2,
   "metadata": {},
   "outputs": [],
   "source": [
    "def play_episode(env, policy, collect=False, buffer=None, render=False):\n",
    "    state = env.reset()\n",
    "    done = False\n",
    "    while not done:\n",
    "        if render:\n",
    "            env.render()\n",
    "        action = policy(state)\n",
    "        next_state, reward, done, info, _, _ = env.step(action)\n",
    "        state = next_state\n",
    "    # TODO: add logic to collect data into replay buffer"
   ]
  },
  {
   "cell_type": "code",
   "execution_count": 3,
   "metadata": {},
   "outputs": [],
   "source": [
    "class DqnAgent:\n",
    "    def __init__(self, action_space_size):\n",
    "        self.action_space_size = action_space_size\n",
    "    \n",
    "    def random_policy(self, state):\n",
    "        return np.random.randint(self.action_space_size)\n",
    "    \n",
    "    def net_policy(self, state):\n",
    "        return 0\n",
    "    \n",
    "    def collect_policy(self, state):\n",
    "        return 0\n",
    "    \n",
    "    def train(self, replay_buffer):\n",
    "        pass"
   ]
  },
  {
   "cell_type": "code",
   "execution_count": 4,
   "metadata": {},
   "outputs": [],
   "source": [
    "def sanitize_state(state):\n",
    "    return state"
   ]
  },
  {
   "cell_type": "code",
   "execution_count": 5,
   "metadata": {},
   "outputs": [],
   "source": [
    "def normalize_reward(reward):\n",
    "    return reward"
   ]
  },
  {
   "cell_type": "code",
   "execution_count": 10,
   "metadata": {},
   "outputs": [],
   "source": [
    "class GameEnv:\n",
    "    \"\"\"\n",
    "    Although OpenAI gym library provides most of the\n",
    "    things we need, the state and reward it emits is\n",
    "    too primative to be used. To keep the state and\n",
    "    reward conversion consistent, we wrap the OpenAI\n",
    "    gym environment in a shim class.\n",
    "    \"\"\"\n",
    "    def __init__(self, game_id):\n",
    "        self.game_id = game_id\n",
    "        self.env = gym.make(game_id)\n",
    "        \n",
    "    def get_action_space_size(self):\n",
    "        return self.env.action_space.n\n",
    "        \n",
    "    def render(self):\n",
    "        self.env.render()\n",
    "        \n",
    "    def reset(self):\n",
    "        return self.env.reset()\n",
    "    \n",
    "    def close(self):\n",
    "        self.env.close()\n",
    "    \n",
    "    def step(self, action):\n",
    "        unsanitized_state, unnormalized_reward, done, info = self.env.step(action)\n",
    "        state = sanitize_state(unsanitized_state)\n",
    "        reward = normalize_reward(unnormalized_reward)\n",
    "        return state, reward, done, info, unsanitized_state, unnormalized_reward"
   ]
  },
  {
   "cell_type": "code",
   "execution_count": 7,
   "metadata": {},
   "outputs": [],
   "source": [
    "def train_agent(max_eps=5):\n",
    "    env = GameEnv('Breakout-v0')\n",
    "    agent = DqnAgent(env.get_action_space_size())\n",
    "    for eps in range(max_eps):\n",
    "        play_episode(env, agent.random_policy, render=True)\n",
    "    env.close()\n",
    "    print('Done')"
   ]
  },
  {
   "cell_type": "code",
   "execution_count": 8,
   "metadata": {},
   "outputs": [
    {
     "name": "stdout",
     "output_type": "stream",
     "text": [
      "Done\n"
     ]
    }
   ],
   "source": [
    "train_agent()"
   ]
  },
  {
   "cell_type": "code",
   "execution_count": null,
   "metadata": {},
   "outputs": [],
   "source": []
  }
 ],
 "metadata": {
  "kernelspec": {
   "display_name": "Python 3",
   "language": "python",
   "name": "python3"
  },
  "language_info": {
   "codemirror_mode": {
    "name": "ipython",
    "version": 3
   },
   "file_extension": ".py",
   "mimetype": "text/x-python",
   "name": "python",
   "nbconvert_exporter": "python",
   "pygments_lexer": "ipython3",
   "version": "3.7.7"
  }
 },
 "nbformat": 4,
 "nbformat_minor": 4
}
